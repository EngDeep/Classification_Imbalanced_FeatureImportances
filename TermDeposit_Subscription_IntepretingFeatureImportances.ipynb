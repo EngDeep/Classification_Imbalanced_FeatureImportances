{
 "cells": [
  {
   "cell_type": "markdown",
   "metadata": {},
   "source": [
    "### Goal"
   ]
  },
  {
   "cell_type": "markdown",
   "metadata": {},
   "source": [
    "#### Predict if the customer will subscribe (yes/no) to a term deposit"
   ]
  },
  {
   "cell_type": "markdown",
   "metadata": {},
   "source": [
    "### Exploratory Data Analysis"
   ]
  },
  {
   "cell_type": "code",
   "execution_count": 53,
   "metadata": {},
   "outputs": [],
   "source": [
    "import pandas as pd\n",
    "import numpy as np\n",
    "import seaborn as sns\n",
    "import matplotlib.pyplot as plt\n",
    "from sklearn.pipeline import Pipeline\n",
    "from feature_engine.missing_data_imputers import CategoricalVariableImputer\n",
    "from feature_engine.missing_data_imputers import RandomSampleImputer\n",
    "from feature_engine.categorical_encoders import OneHotCategoricalEncoder\n",
    "from feature_engine.variable_transformers import YeoJohnsonTransformer\n",
    "from feature_engine.discretisers import EqualWidthDiscretiser\n",
    "from sklearn.preprocessing import StandardScaler, RobustScaler\n",
    "from sklearn import metrics"
   ]
  },
  {
   "cell_type": "markdown",
   "metadata": {},
   "source": [
    "#### Exploring the data"
   ]
  },
  {
   "cell_type": "code",
   "execution_count": 82,
   "metadata": {},
   "outputs": [],
   "source": [
    "data =  pd.read_csv(\"D:\\Apziva\\\\term-deposit-marketing-2020.csv\")"
   ]
  },
  {
   "cell_type": "code",
   "execution_count": 83,
   "metadata": {},
   "outputs": [
    {
     "data": {
      "text/plain": [
       "(40000, 14)"
      ]
     },
     "execution_count": 83,
     "metadata": {},
     "output_type": "execute_result"
    }
   ],
   "source": [
    "data.shape"
   ]
  },
  {
   "cell_type": "code",
   "execution_count": 84,
   "metadata": {},
   "outputs": [
    {
     "data": {
      "text/html": [
       "<div>\n",
       "<style scoped>\n",
       "    .dataframe tbody tr th:only-of-type {\n",
       "        vertical-align: middle;\n",
       "    }\n",
       "\n",
       "    .dataframe tbody tr th {\n",
       "        vertical-align: top;\n",
       "    }\n",
       "\n",
       "    .dataframe thead th {\n",
       "        text-align: right;\n",
       "    }\n",
       "</style>\n",
       "<table border=\"1\" class=\"dataframe\">\n",
       "  <thead>\n",
       "    <tr style=\"text-align: right;\">\n",
       "      <th></th>\n",
       "      <th>age</th>\n",
       "      <th>balance</th>\n",
       "      <th>day</th>\n",
       "      <th>duration</th>\n",
       "      <th>campaign</th>\n",
       "    </tr>\n",
       "  </thead>\n",
       "  <tbody>\n",
       "    <tr>\n",
       "      <th>count</th>\n",
       "      <td>40000.000000</td>\n",
       "      <td>40000.000000</td>\n",
       "      <td>40000.000000</td>\n",
       "      <td>40000.000000</td>\n",
       "      <td>40000.000000</td>\n",
       "    </tr>\n",
       "    <tr>\n",
       "      <th>mean</th>\n",
       "      <td>40.544600</td>\n",
       "      <td>1274.277550</td>\n",
       "      <td>16.017225</td>\n",
       "      <td>254.824300</td>\n",
       "      <td>2.882175</td>\n",
       "    </tr>\n",
       "    <tr>\n",
       "      <th>std</th>\n",
       "      <td>9.641776</td>\n",
       "      <td>2903.769716</td>\n",
       "      <td>8.278127</td>\n",
       "      <td>259.366498</td>\n",
       "      <td>3.239051</td>\n",
       "    </tr>\n",
       "    <tr>\n",
       "      <th>min</th>\n",
       "      <td>19.000000</td>\n",
       "      <td>-8019.000000</td>\n",
       "      <td>1.000000</td>\n",
       "      <td>0.000000</td>\n",
       "      <td>1.000000</td>\n",
       "    </tr>\n",
       "    <tr>\n",
       "      <th>25%</th>\n",
       "      <td>33.000000</td>\n",
       "      <td>54.000000</td>\n",
       "      <td>8.000000</td>\n",
       "      <td>100.000000</td>\n",
       "      <td>1.000000</td>\n",
       "    </tr>\n",
       "    <tr>\n",
       "      <th>50%</th>\n",
       "      <td>39.000000</td>\n",
       "      <td>407.000000</td>\n",
       "      <td>17.000000</td>\n",
       "      <td>175.000000</td>\n",
       "      <td>2.000000</td>\n",
       "    </tr>\n",
       "    <tr>\n",
       "      <th>75%</th>\n",
       "      <td>48.000000</td>\n",
       "      <td>1319.000000</td>\n",
       "      <td>21.000000</td>\n",
       "      <td>313.000000</td>\n",
       "      <td>3.000000</td>\n",
       "    </tr>\n",
       "    <tr>\n",
       "      <th>max</th>\n",
       "      <td>95.000000</td>\n",
       "      <td>102127.000000</td>\n",
       "      <td>31.000000</td>\n",
       "      <td>4918.000000</td>\n",
       "      <td>63.000000</td>\n",
       "    </tr>\n",
       "  </tbody>\n",
       "</table>\n",
       "</div>"
      ],
      "text/plain": [
       "                age        balance           day      duration      campaign\n",
       "count  40000.000000   40000.000000  40000.000000  40000.000000  40000.000000\n",
       "mean      40.544600    1274.277550     16.017225    254.824300      2.882175\n",
       "std        9.641776    2903.769716      8.278127    259.366498      3.239051\n",
       "min       19.000000   -8019.000000      1.000000      0.000000      1.000000\n",
       "25%       33.000000      54.000000      8.000000    100.000000      1.000000\n",
       "50%       39.000000     407.000000     17.000000    175.000000      2.000000\n",
       "75%       48.000000    1319.000000     21.000000    313.000000      3.000000\n",
       "max       95.000000  102127.000000     31.000000   4918.000000     63.000000"
      ]
     },
     "execution_count": 84,
     "metadata": {},
     "output_type": "execute_result"
    }
   ],
   "source": [
    "data.describe()"
   ]
  },
  {
   "cell_type": "code",
   "execution_count": 85,
   "metadata": {},
   "outputs": [
    {
     "data": {
      "text/html": [
       "<div>\n",
       "<style scoped>\n",
       "    .dataframe tbody tr th:only-of-type {\n",
       "        vertical-align: middle;\n",
       "    }\n",
       "\n",
       "    .dataframe tbody tr th {\n",
       "        vertical-align: top;\n",
       "    }\n",
       "\n",
       "    .dataframe thead th {\n",
       "        text-align: right;\n",
       "    }\n",
       "</style>\n",
       "<table border=\"1\" class=\"dataframe\">\n",
       "  <thead>\n",
       "    <tr style=\"text-align: right;\">\n",
       "      <th></th>\n",
       "      <th>age</th>\n",
       "      <th>job</th>\n",
       "      <th>marital</th>\n",
       "      <th>education</th>\n",
       "      <th>default</th>\n",
       "      <th>balance</th>\n",
       "      <th>housing</th>\n",
       "      <th>loan</th>\n",
       "      <th>contact</th>\n",
       "      <th>day</th>\n",
       "      <th>month</th>\n",
       "      <th>duration</th>\n",
       "      <th>campaign</th>\n",
       "      <th>y</th>\n",
       "    </tr>\n",
       "  </thead>\n",
       "  <tbody>\n",
       "    <tr>\n",
       "      <th>0</th>\n",
       "      <td>58</td>\n",
       "      <td>management</td>\n",
       "      <td>married</td>\n",
       "      <td>tertiary</td>\n",
       "      <td>no</td>\n",
       "      <td>2143</td>\n",
       "      <td>yes</td>\n",
       "      <td>no</td>\n",
       "      <td>unknown</td>\n",
       "      <td>5</td>\n",
       "      <td>may</td>\n",
       "      <td>261</td>\n",
       "      <td>1</td>\n",
       "      <td>no</td>\n",
       "    </tr>\n",
       "    <tr>\n",
       "      <th>1</th>\n",
       "      <td>44</td>\n",
       "      <td>technician</td>\n",
       "      <td>single</td>\n",
       "      <td>secondary</td>\n",
       "      <td>no</td>\n",
       "      <td>29</td>\n",
       "      <td>yes</td>\n",
       "      <td>no</td>\n",
       "      <td>unknown</td>\n",
       "      <td>5</td>\n",
       "      <td>may</td>\n",
       "      <td>151</td>\n",
       "      <td>1</td>\n",
       "      <td>no</td>\n",
       "    </tr>\n",
       "    <tr>\n",
       "      <th>2</th>\n",
       "      <td>33</td>\n",
       "      <td>entrepreneur</td>\n",
       "      <td>married</td>\n",
       "      <td>secondary</td>\n",
       "      <td>no</td>\n",
       "      <td>2</td>\n",
       "      <td>yes</td>\n",
       "      <td>yes</td>\n",
       "      <td>unknown</td>\n",
       "      <td>5</td>\n",
       "      <td>may</td>\n",
       "      <td>76</td>\n",
       "      <td>1</td>\n",
       "      <td>no</td>\n",
       "    </tr>\n",
       "    <tr>\n",
       "      <th>3</th>\n",
       "      <td>47</td>\n",
       "      <td>blue-collar</td>\n",
       "      <td>married</td>\n",
       "      <td>unknown</td>\n",
       "      <td>no</td>\n",
       "      <td>1506</td>\n",
       "      <td>yes</td>\n",
       "      <td>no</td>\n",
       "      <td>unknown</td>\n",
       "      <td>5</td>\n",
       "      <td>may</td>\n",
       "      <td>92</td>\n",
       "      <td>1</td>\n",
       "      <td>no</td>\n",
       "    </tr>\n",
       "    <tr>\n",
       "      <th>4</th>\n",
       "      <td>33</td>\n",
       "      <td>unknown</td>\n",
       "      <td>single</td>\n",
       "      <td>unknown</td>\n",
       "      <td>no</td>\n",
       "      <td>1</td>\n",
       "      <td>no</td>\n",
       "      <td>no</td>\n",
       "      <td>unknown</td>\n",
       "      <td>5</td>\n",
       "      <td>may</td>\n",
       "      <td>198</td>\n",
       "      <td>1</td>\n",
       "      <td>no</td>\n",
       "    </tr>\n",
       "  </tbody>\n",
       "</table>\n",
       "</div>"
      ],
      "text/plain": [
       "   age           job  marital  education default  balance housing loan  \\\n",
       "0   58    management  married   tertiary      no     2143     yes   no   \n",
       "1   44    technician   single  secondary      no       29     yes   no   \n",
       "2   33  entrepreneur  married  secondary      no        2     yes  yes   \n",
       "3   47   blue-collar  married    unknown      no     1506     yes   no   \n",
       "4   33       unknown   single    unknown      no        1      no   no   \n",
       "\n",
       "   contact  day month  duration  campaign   y  \n",
       "0  unknown    5   may       261         1  no  \n",
       "1  unknown    5   may       151         1  no  \n",
       "2  unknown    5   may        76         1  no  \n",
       "3  unknown    5   may        92         1  no  \n",
       "4  unknown    5   may       198         1  no  "
      ]
     },
     "execution_count": 85,
     "metadata": {},
     "output_type": "execute_result"
    }
   ],
   "source": [
    "data.head()"
   ]
  },
  {
   "cell_type": "code",
   "execution_count": 86,
   "metadata": {},
   "outputs": [
    {
     "data": {
      "text/plain": [
       "no     37104\n",
       "yes     2896\n",
       "Name: y, dtype: int64"
      ]
     },
     "execution_count": 86,
     "metadata": {},
     "output_type": "execute_result"
    }
   ],
   "source": [
    "# The target variable seems to be imbalanced\n",
    "data[\"y\"].value_counts()"
   ]
  },
  {
   "cell_type": "code",
   "execution_count": 87,
   "metadata": {},
   "outputs": [
    {
     "name": "stdout",
     "output_type": "stream",
     "text": [
      "age [58 44 33 47 35 28 42 43 41 29 53 57 51 45 60 56 32 25 40 39 52 46 36 49\n",
      " 59 37 50 54 55 48 24 38 31 30 27 34 23 26 61 22 21 20 66 62 83 75 67 70\n",
      " 65 68 64 69 72 71 19 76 85 63 90 82 73 74 78 80 94 79 77 86 95 81]\n",
      "job ['management' 'technician' 'entrepreneur' 'blue-collar' 'unknown'\n",
      " 'retired' 'admin' 'services' 'self-employed' 'unemployed' 'housemaid'\n",
      " 'student']\n",
      "marital ['married' 'single' 'divorced']\n",
      "education ['tertiary' 'secondary' 'unknown' 'primary']\n",
      "default ['no' 'yes']\n",
      "balance [  2143     29      2 ...   7222   3402 102127]\n",
      "housing ['yes' 'no']\n",
      "loan ['no' 'yes']\n",
      "contact ['unknown' 'cellular' 'telephone']\n",
      "day [ 5  6  7  8  9 12 13 14 15 16 19 20 21 23 26 27 28 29 30  2  3  4 11 17\n",
      " 18 24 25  1 10 22 31]\n",
      "month ['may' 'jun' 'jul' 'aug' 'oct' 'nov' 'dec' 'jan' 'feb' 'mar' 'apr']\n",
      "duration [ 261  151   76 ... 1880 1460 2219]\n",
      "campaign [ 1  2  3  5  4  6  7  8  9 10 11 12 13 19 14 24 16 32 18 22 15 17 25 21\n",
      " 43 51 63 41 26 28 55 50 38 23 20 29 31 37 30 46 27 58 33 35 34 36 39 44]\n",
      "y ['no' 'yes']\n"
     ]
    }
   ],
   "source": [
    "# Examining the data\n",
    "for var in data.columns:\n",
    "    print(var, data[var].unique())"
   ]
  },
  {
   "cell_type": "code",
   "execution_count": 88,
   "metadata": {},
   "outputs": [
    {
     "name": "stdout",
     "output_type": "stream",
     "text": [
      "There are 5 continuous variables\n",
      "There are 0 discrete variables\n",
      "There are 8 categorical variables\n"
     ]
    }
   ],
   "source": [
    "# making lists of variable types for numerical and categorical data\n",
    "categorical = [var for var in data.columns if data[var].dtype == 'O' and var != 'y']\n",
    "\n",
    "discrete = [var for var in data.columns if data[var].dtype != 'O' and len(data[var].unique()) < 20 \n",
    "            and var != 'y']\n",
    "\n",
    "continuous = [var for var in data.columns if data[var].dtype != 'O'and var not in discrete and var != 'y']\n",
    "\n",
    "print(f'There are {len(continuous)} continuous variables')\n",
    "print(f'There are {len(discrete)} discrete variables')\n",
    "print(f'There are {len(categorical)} categorical variables')"
   ]
  },
  {
   "cell_type": "code",
   "execution_count": 61,
   "metadata": {},
   "outputs": [
    {
     "data": {
      "image/png": "[encoded data removed]",
      "text/plain": [
       "<Figure size 1440x360 with 8 Axes>"
      ]
     },
     "metadata": {
      "needs_background": "light"
     },
     "output_type": "display_data"
    }
   ],
   "source": [
    "# Exploring the distribution of categorical data via histograms\n",
    "fig, axes = plt.subplots(ncols = len(categorical), figsize=(20,5))\n",
    "for col, ax in zip(categorical, axes):\n",
    "    data[col].value_counts().sort_index().plot.bar(ax=ax, title=col, color=['orange'])\n",
    "\n",
    "plt.tight_layout()    \n",
    "plt.show()"
   ]
  },
  {
   "cell_type": "code",
   "execution_count": 41,
   "metadata": {},
   "outputs": [
    {
     "data": {
      "text/plain": [
       "age          0\n",
       "job          0\n",
       "marital      0\n",
       "education    0\n",
       "default      0\n",
       "balance      0\n",
       "housing      0\n",
       "loan         0\n",
       "contact      0\n",
       "day          0\n",
       "month        0\n",
       "duration     0\n",
       "campaign     0\n",
       "y            0\n",
       "dtype: int64"
      ]
     },
     "execution_count": 41,
     "metadata": {},
     "output_type": "execute_result"
    }
   ],
   "source": [
    "# Checking for null data\n",
    "data.isnull().sum()"
   ]
  },
  {
   "cell_type": "code",
   "execution_count": 42,
   "metadata": {},
   "outputs": [],
   "source": [
    "# the value 'unknown' in the attributes job, education and contact are essentially missing values \n",
    "# and can be replaced with NANs to future impute them"
   ]
  },
  {
   "cell_type": "code",
   "execution_count": 62,
   "metadata": {},
   "outputs": [
    {
     "data": {
      "text/plain": [
       "blue-collar      9383\n",
       "management       8166\n",
       "technician       6852\n",
       "admin            4483\n",
       "services         3910\n",
       "retired          1437\n",
       "self-employed    1414\n",
       "entrepreneur     1405\n",
       "unemployed       1104\n",
       "housemaid        1087\n",
       "student           524\n",
       "unknown           235\n",
       "Name: job, dtype: int64"
      ]
     },
     "execution_count": 62,
     "metadata": {},
     "output_type": "execute_result"
    }
   ],
   "source": [
    "# we can impute unknown here with a random value given the relative small number of missing values\n",
    "data[\"job\"].value_counts()"
   ]
  },
  {
   "cell_type": "code",
   "execution_count": 89,
   "metadata": {},
   "outputs": [],
   "source": [
    "data[\"job\"].replace({\"unknown\": np.nan}, inplace=True)"
   ]
  },
  {
   "cell_type": "code",
   "execution_count": 90,
   "metadata": {},
   "outputs": [
    {
     "data": {
      "text/plain": [
       "secondary    20993\n",
       "tertiary     11206\n",
       "primary       6270\n",
       "unknown       1531\n",
       "Name: education, dtype: int64"
      ]
     },
     "execution_count": 90,
     "metadata": {},
     "output_type": "execute_result"
    }
   ],
   "source": [
    "# we can impute unknown here with with the mode\n",
    "data[\"education\"].value_counts()"
   ]
  },
  {
   "cell_type": "code",
   "execution_count": 91,
   "metadata": {},
   "outputs": [],
   "source": [
    "data[\"education\"].replace({\"unknown\": np.nan}, inplace=True)"
   ]
  },
  {
   "cell_type": "code",
   "execution_count": 92,
   "metadata": {},
   "outputs": [
    {
     "data": {
      "text/plain": [
       "cellular     24914\n",
       "unknown      12765\n",
       "telephone     2321\n",
       "Name: contact, dtype: int64"
      ]
     },
     "execution_count": 92,
     "metadata": {},
     "output_type": "execute_result"
    }
   ],
   "source": [
    "# leaving the unkown value as is since it is high in number\n",
    "data[\"contact\"].value_counts()"
   ]
  },
  {
   "cell_type": "code",
   "execution_count": 93,
   "metadata": {},
   "outputs": [
    {
     "data": {
      "text/plain": [
       "<seaborn.axisgrid.FacetGrid at 0x1ec12ab4048>"
      ]
     },
     "execution_count": 93,
     "metadata": {},
     "output_type": "execute_result"
    },
    {
     "data": {
      "image/png": "[encoded data removed]",
      "text/plain": [
       "<Figure size 1080x216 with 5 Axes>"
      ]
     },
     "metadata": {
      "needs_background": "light"
     },
     "output_type": "display_data"
    }
   ],
   "source": [
    "# Checking the distribution of the continuous variables via distplots\n",
    "nd = pd.melt(data, value_vars = continuous)\n",
    "n1 = sns.FacetGrid (nd, col = 'variable', col_wrap = 5, sharex = False, sharey = False)\n",
    "n1 = n1.map(sns.distplot, 'value')\n",
    "n1"
   ]
  },
  {
   "cell_type": "code",
   "execution_count": 94,
   "metadata": {},
   "outputs": [
    {
     "data": {
      "text/plain": [
       "balance     8.259236\n",
       "campaign    4.730901\n",
       "duration    3.165307\n",
       "age         0.436080\n",
       "day         0.067930\n",
       "dtype: float64"
      ]
     },
     "execution_count": 94,
     "metadata": {},
     "output_type": "execute_result"
    }
   ],
   "source": [
    "data.skew(axis = 0, skipna = True).sort_values(ascending=False)"
   ]
  },
  {
   "cell_type": "markdown",
   "metadata": {},
   "source": [
    "#### Correlation Matrix"
   ]
  },
  {
   "cell_type": "code",
   "execution_count": 50,
   "metadata": {},
   "outputs": [
    {
     "data": {
      "image/png": "[encoded data removed]",
      "text/plain": [
       "<Figure size 720x720 with 2 Axes>"
      ]
     },
     "metadata": {
      "needs_background": "light"
     },
     "output_type": "display_data"
    }
   ],
   "source": [
    "mask = np.zeros_like(data.corr(), dtype=np.bool)\n",
    "f, ax = plt.subplots(figsize = (10,10)) \n",
    "heatmap = sns.heatmap(data.corr(), \n",
    "                      mask = mask,\n",
    "                      square = True,\n",
    "                      linewidths = .5,\n",
    "                      cmap = 'coolwarm',\n",
    "                      cbar_kws = {'shrink': .4, \n",
    "                                'ticks' : [-1, -.5, 0, 0.5, 1]},\n",
    "                      vmin = -1, \n",
    "                      vmax = 1,\n",
    "                      annot = True,\n",
    "                      annot_kws = {\"size\": 12})\n",
    "\n",
    "ax.set_yticklabels(data.corr().columns, rotation = 0)\n",
    "ax.set_xticklabels(data.corr().columns)\n",
    "sns.set_style({'xtick.bottom': True}, {'ytick.left': True})\n",
    "plt.tight_layout()"
   ]
  },
  {
   "cell_type": "code",
   "execution_count": 51,
   "metadata": {},
   "outputs": [],
   "source": [
    "# We don't really see much of a linear relation between the numerical columns in the data"
   ]
  },
  {
   "cell_type": "code",
   "execution_count": 95,
   "metadata": {},
   "outputs": [
    {
     "data": {
      "text/plain": [
       "no     37104\n",
       "yes     2896\n",
       "Name: y, dtype: int64"
      ]
     },
     "execution_count": 95,
     "metadata": {},
     "output_type": "execute_result"
    }
   ],
   "source": [
    "data[\"y\"].value_counts()"
   ]
  },
  {
   "cell_type": "code",
   "execution_count": 96,
   "metadata": {},
   "outputs": [],
   "source": [
    "data[\"y\"].replace({\"yes\": 1 , \"no\": 0}, inplace=True)"
   ]
  },
  {
   "cell_type": "markdown",
   "metadata": {},
   "source": [
    "#### Splitting the Data"
   ]
  },
  {
   "cell_type": "code",
   "execution_count": 7,
   "metadata": {},
   "outputs": [
    {
     "data": {
      "text/plain": [
       "(40000, 14)"
      ]
     },
     "execution_count": 7,
     "metadata": {},
     "output_type": "execute_result"
    }
   ],
   "source": [
    "data.shape"
   ]
  },
  {
   "cell_type": "code",
   "execution_count": 99,
   "metadata": {},
   "outputs": [],
   "source": [
    "from sklearn.model_selection import train_test_split\n",
    "X_trainval, X_test, y_trainval, y_test = train_test_split(data.drop('y',axis=1), data.y , test_size=0.2, stratify=data['y'], random_state=0)\n",
    "X_train, X_val, y_train, y_val = train_test_split(X_trainval, y_trainval, test_size=0.25, random_state=0)"
   ]
  },
  {
   "cell_type": "markdown",
   "metadata": {},
   "source": [
    "#### Preprocessing Pipeline"
   ]
  },
  {
   "cell_type": "code",
   "execution_count": 100,
   "metadata": {},
   "outputs": [],
   "source": [
    "prep_pipe = Pipeline([\n",
    "    # Imputers\n",
    "    ('rand_imputer', RandomSampleImputer(random_state = 40,\n",
    "                                         seed = 'general',\n",
    "                                         variables = ['job'])),\n",
    "    \n",
    "    ('mode_imputer', CategoricalVariableImputer(imputation_method='frequent',\n",
    "                                                variables = ['education'])),\n",
    "    # Encoder\n",
    "    ('onehot_encoder', OneHotCategoricalEncoder(variables = categorical,\n",
    "                                                top_categories = None,\n",
    "                                                drop_last = True)),\n",
    "    # Transformer\n",
    "    ('yjt', YeoJohnsonTransformer(variables = continuous)),\n",
    "    \n",
    "    # Discretiser\n",
    "    ('ew_disc', EqualWidthDiscretiser(bins=10, variables = continuous)),\n",
    "    \n",
    "    # Scaling\n",
    "    (\"standardscaler\" , StandardScaler(with_mean=True, with_std=False)),\n",
    "    (\"robustscaler\" , RobustScaler(with_centering=False, with_scaling=True, quantile_range=(0, 100))) \n",
    "    ])"
   ]
  },
  {
   "cell_type": "code",
   "execution_count": 101,
   "metadata": {},
   "outputs": [],
   "source": [
    "prep_pipe.fit(X_train, y_train)\n",
    "X_train = prep_pipe.transform(X_train)\n",
    "X_val = prep_pipe.transform(X_val)\n",
    "X_test = prep_pipe.transform(X_test)"
   ]
  },
  {
   "cell_type": "markdown",
   "metadata": {},
   "source": [
    "### Selecting an optimal metric"
   ]
  },
  {
   "cell_type": "markdown",
   "metadata": {},
   "source": [
    "- The specified goal requires us to choose the model based on the metric accuracy.\n",
    "- Using accuracy as the metric is not optimal to making the best prediction especially due to the fact that our data set is imbalanced\n",
    "- For Ex: Suppose we have 80% of the data points of just class A ; we can achieve 80% accuracy by just making every prediction A"
   ]
  },
  {
   "cell_type": "code",
   "execution_count": 31,
   "metadata": {},
   "outputs": [
    {
     "data": {
      "text/plain": [
       "0    11150\n",
       "1      850\n",
       "Name: y, dtype: int64"
      ]
     },
     "execution_count": 31,
     "metadata": {},
     "output_type": "execute_result"
    }
   ],
   "source": [
    "data['y'].value_counts()"
   ]
  },
  {
   "cell_type": "markdown",
   "metadata": {},
   "source": [
    "- To achieve an optimal result we would like to maximize two components:\n",
    "\n",
    "(1) The \"True Positive Rate\" aka Sensitivity aka Recall. Given by: TP/(TP+FN)\n"
   ]
  },
  {
   "cell_type": "markdown",
   "metadata": {},
   "source": [
    "(2) The Precision - How many of the positive predictions, are in fact correct. Given by: TP/(TP+FP)"
   ]
  },
  {
   "cell_type": "markdown",
   "metadata": {},
   "source": [
    "- To obtain a balance between both we use F Measure which is given by: (2 x Precision x Recall)/(Precision+Recall)"
   ]
  },
  {
   "cell_type": "code",
   "execution_count": 23,
   "metadata": {},
   "outputs": [
    {
     "data": {
      "text/plain": [
       "make_scorer(fbeta_score, beta=2)"
      ]
     },
     "execution_count": 23,
     "metadata": {},
     "output_type": "execute_result"
    }
   ],
   "source": [
    "#creating a scorer for F2 score so that we can given an emphases on the minority class predictions\n",
    "from sklearn.metrics import fbeta_score, make_scorer\n",
    "f2score = make_scorer(fbeta_score, beta=2)\n",
    "f2score"
   ]
  },
  {
   "cell_type": "markdown",
   "metadata": {},
   "source": [
    "### Model Training"
   ]
  },
  {
   "cell_type": "markdown",
   "metadata": {},
   "source": [
    "#### Basic Models"
   ]
  },
  {
   "cell_type": "markdown",
   "metadata": {},
   "source": [
    "##### Logistic Regression (L2 Penalty)"
   ]
  },
  {
   "cell_type": "code",
   "execution_count": 37,
   "metadata": {},
   "outputs": [
    {
     "name": "stdout",
     "output_type": "stream",
     "text": [
      "Best Parameters for Logistic Regression:  {'C': 0.5, 'dual': False, 'fit_intercept': False, 'penalty': 'l2', 'solver': 'sag', 'warm_start': True}\n",
      "Best Mean Cross-validation score: 0.47\n",
      "Test Performance: 0.47 \n",
      "Validation Performance: 0.47 \n"
     ]
    }
   ],
   "source": [
    "from sklearn.linear_model import LogisticRegression\n",
    "from sklearn.model_selection import GridSearchCV\n",
    "logreg_l2 = LogisticRegression(max_iter=10000, random_state=42)\n",
    "\n",
    "logreg_param = {'penalty':['l2'],\n",
    "                'dual':[False],\n",
    "                'C':[0.001, 0.01, 0.1, 0.2, 0.5], \n",
    "                'fit_intercept':[True,False],\n",
    "                'solver':['sag'],\n",
    "                'warm_start':[True,False]}\n",
    "\n",
    "logreg_l2_grid = GridSearchCV(logreg_l2, logreg_param, cv = 5, return_train_score=True, scoring = f2score)\n",
    "logreg_l2_grid.fit(X_train,y_train)\n",
    "\n",
    "print(\"Best Parameters for Logistic Regression: \",logreg_l2_grid.best_params_)\n",
    "\n",
    "print(\"Best Mean Cross-validation score: {:.2f}\".format(logreg_l2_grid.best_score_))\n",
    "\n",
    "print(\"Test Performance: {:.2f} \".format(logreg_l2_grid.score(X_test,y_test)))\n",
    "print(\"Validation Performance: {:.2f} \".format(logreg_l2_grid.score(X_val,y_val)))"
   ]
  },
  {
   "cell_type": "markdown",
   "metadata": {},
   "source": [
    "##### Logistic Regression (L1 Penalty)"
   ]
  },
  {
   "cell_type": "code",
   "execution_count": 48,
   "metadata": {},
   "outputs": [
    {
     "name": "stdout",
     "output_type": "stream",
     "text": [
      "Best Parameters for Logistic Regression:  {'C': 0.5, 'dual': False, 'fit_intercept': False, 'penalty': 'l1', 'solver': 'liblinear', 'warm_start': True} \n",
      "\n",
      "Best Mean Cross-validation score: 0.50 \n",
      "\n",
      "Test Performance: 0.48 \n",
      "Validation Performance: 0.48 \n"
     ]
    }
   ],
   "source": [
    "logreg_l1 = LogisticRegression(max_iter=10000, random_state=42)\n",
    "\n",
    "logreg_param = {'penalty':['l1'],\n",
    "                'dual':[False],\n",
    "                'C':[0.001, 0.01, 0.1, 0.2, 0.5], \n",
    "                'fit_intercept':[True,False],\n",
    "                'solver':['liblinear'],\n",
    "                'warm_start':[True]}\n",
    "\n",
    "logreg_l1_grid = GridSearchCV(logreg_l1, logreg_param, cv = 5, return_train_score=True, scoring = f2score)\n",
    "logreg_l1_grid.fit(X_train,y_train)\n",
    "\n",
    "print(\"Best Parameters for Logistic Regression: \",logreg_l1_grid.best_params_, '\\n')\n",
    "\n",
    "print(\"Best Mean Cross-validation score: {:.2f}\".format(logreg_l1_grid.best_score_), '\\n')\n",
    "\n",
    "print(\"Test Performance: {:.2f} \".format(logreg_l1_grid.score(X_test,y_test)))\n",
    "print(\"Validation Performance: {:.2f} \".format(logreg_l1_grid.score(X_val,y_val)))"
   ]
  },
  {
   "cell_type": "markdown",
   "metadata": {},
   "source": [
    "##### Logistic Regression (Elastic Penalty)"
   ]
  },
  {
   "cell_type": "code",
   "execution_count": 52,
   "metadata": {},
   "outputs": [
    {
     "name": "stdout",
     "output_type": "stream",
     "text": [
      "Best Parameters:  {'C': 0.1, 'class_weight': 'balanced', 'dual': False, 'fit_intercept': True, 'l1_ratio': 0.8, 'penalty': 'elasticnet', 'solver': 'saga', 'warm_start': True} \n",
      "\n",
      "Best Mean Cross-validation score: 0.63 \n",
      "\n",
      "Test Performance: 0.61 \n",
      "Validation Performance: 0.62 \n"
     ]
    }
   ],
   "source": [
    "logreg_l1 = LogisticRegression(max_iter=10000, random_state=42)\n",
    "\n",
    "logreg_param = {'penalty':['elasticnet'],\n",
    "                'dual':[False],\n",
    "                'C':[0.001, 0.01, 0.1, 0.2, 0.5], \n",
    "                'fit_intercept':[True,False],\n",
    "                'solver':['saga'],\n",
    "                'warm_start':[True],\n",
    "                'l1_ratio':[0.1,0.2,0.3,0.4,0.5,0.6,0.7,0.8,0.9],\n",
    "                'class_weight':[None,'balanced'],}\n",
    "\n",
    "logreg_l1_grid = GridSearchCV(logreg_l1, logreg_param, cv = 5, return_train_score=True, scoring= f2score)\n",
    "logreg_l1_grid.fit(X_train,y_train)\n",
    "\n",
    "print(\"Best Parameters: \",logreg_l1_grid.best_params_, '\\n')\n",
    "\n",
    "print(\"Best Mean Cross-validation score: {:.2f}\".format(logreg_l1_grid.best_score_), '\\n')\n",
    "\n",
    "print(\"Test Performance: {:.2f} \".format(logreg_l1_grid.score(X_test,y_test)))\n",
    "print(\"Validation Performance: {:.2f} \".format(logreg_l1_grid.score(X_val,y_val)))"
   ]
  },
  {
   "cell_type": "markdown",
   "metadata": {},
   "source": [
    "##### KNN "
   ]
  },
  {
   "cell_type": "code",
   "execution_count": 46,
   "metadata": {},
   "outputs": [
    {
     "name": "stdout",
     "output_type": "stream",
     "text": [
      "Best Parameters for Logistic Regression:  {'algorithm': 'auto', 'n_neighbors': 5, 'weights': 'distance'}\n",
      "Best Mean Cross-validation score: 0.14 \n",
      "\n",
      "Test Performance: 0.17 \n",
      "Validation Performance: 0.15 \n"
     ]
    }
   ],
   "source": [
    "from sklearn.neighbors import KNeighborsClassifier\n",
    "knn = KNeighborsClassifier()\n",
    "\n",
    "param_knn = {'n_neighbors': range(5,25), \n",
    "             'algorithm':['auto', 'ball_tree', 'kd_tree', 'brute'],\n",
    "             'weights':['uniform','distance']}\n",
    "\n",
    "grid_knn = GridSearchCV(knn, param_knn, cv = 5, return_train_score = True, scoring = f2score)\n",
    "grid_knn.fit(X_train, y_train)\n",
    "\n",
    "print(\"Best Parameters: \",grid_knn.best_params_, '\\n')\n",
    "\n",
    "print(\"Best Mean Cross-validation score: {:.2f}\".format(grid_knn.best_score_), '\\n')\n",
    "\n",
    "print(\"Test Performance: {:.2f} \".format(grid_knn.score(X_test,y_test)))\n",
    "print(\"Validation Performance: {:.2f} \".format(grid_knn.score(X_val,y_val)))"
   ]
  },
  {
   "cell_type": "markdown",
   "metadata": {},
   "source": [
    "##### Decision Tree"
   ]
  },
  {
   "cell_type": "code",
   "execution_count": 49,
   "metadata": {},
   "outputs": [
    {
     "name": "stdout",
     "output_type": "stream",
     "text": [
      "Best Parameters for Logistic Regression:  {'criterion': 'gini', 'max_depth': 2, 'max_leaf_nodes': 4, 'min_samples_split': 2, 'splitter': 'random'} \n",
      "\n",
      "Best Mean Cross-validation score: 0.37 \n",
      "\n",
      "Test Performance: 0.37 \n",
      "Validation Performance: 0.34 \n"
     ]
    }
   ],
   "source": [
    "from sklearn.tree import DecisionTreeClassifier\n",
    "dtree = DecisionTreeClassifier(random_state=0)\n",
    "\n",
    "param_dtree = {\"max_depth\": [1,2,3,4,5,7,9],\n",
    "           \"min_samples_split\": [2,3,4],\n",
    "           \"max_leaf_nodes\": [3,4,5],\n",
    "           \"criterion\":['gini'],\n",
    "           \"splitter\":['best','random']}\n",
    "\n",
    "grid_dtree = GridSearchCV(dtree, param_dtree, cv = 5, return_train_score = True, scoring = f2score)\n",
    "grid_dtree.fit(X_train, y_train)\n",
    "\n",
    "print(\"Best Parameters: \",grid_dtree.best_params_, '\\n')\n",
    "\n",
    "print(\"Best Mean Cross-validation score: {:.2f}\".format(grid_dtree.best_score_), '\\n')\n",
    "\n",
    "print(\"Test Performance: {:.2f} \".format(grid_dtree.score(X_test,y_test)))\n",
    "print(\"Validation Performance: {:.2f} \".format(grid_dtree.score(X_val,y_val)))"
   ]
  },
  {
   "cell_type": "markdown",
   "metadata": {},
   "source": [
    "##### Linear SVC"
   ]
  },
  {
   "cell_type": "code",
   "execution_count": 53,
   "metadata": {},
   "outputs": [
    {
     "name": "stdout",
     "output_type": "stream",
     "text": [
      "Best Parameters:  {'C': 0.1, 'loss': 'squared_hinge', 'penalty': 'l2'} \n",
      "\n",
      "Best Mean Cross-validation score: 0.18 \n",
      "\n",
      "Test Performance: 0.21 \n",
      "Validation Performance: 0.17 \n"
     ]
    }
   ],
   "source": [
    "from sklearn.svm import LinearSVC\n",
    "lsvc = LinearSVC(random_state=42)\n",
    "\n",
    "param = [{'penalty':['l2'],\n",
    "          'C': [0.001, 0.002, 0.0001, 0.008, 0.01, 0.1], \n",
    "          'loss':['hinge','squared_hinge']}]\n",
    "\n",
    "svc_grid = GridSearchCV(lsvc, param, cv = 5 ,return_train_score = True ,scoring = f2score)\n",
    "svc_grid.fit(X_train, y_train)\n",
    "\n",
    "print(\"Best Parameters: \",svc_grid.best_params_, '\\n')\n",
    "\n",
    "print(\"Best Mean Cross-validation score: {:.2f}\".format(svc_grid.best_score_), '\\n')\n",
    "\n",
    "print(\"Test Performance: {:.2f} \".format(svc_grid.score(X_test,y_test)))\n",
    "print(\"Validation Performance: {:.2f} \".format(svc_grid.score(X_val,y_val)))"
   ]
  },
  {
   "cell_type": "markdown",
   "metadata": {},
   "source": [
    "##### Kernel SVC"
   ]
  },
  {
   "cell_type": "code",
   "execution_count": 51,
   "metadata": {},
   "outputs": [
    {
     "name": "stdout",
     "output_type": "stream",
     "text": [
      "Best Parameters:  {'C': 100, 'gamma': 0.1, 'kernel': 'rbf'} \n",
      "\n",
      "Best Mean Cross-validation score: 0.36 \n",
      "\n",
      "Test Performance: 0.37 \n",
      "Validation Performance: 0.36 \n"
     ]
    }
   ],
   "source": [
    "from sklearn.svm import SVC\n",
    "svc = SVC()\n",
    "param_grid = [{'kernel': ['rbf'],\n",
    "               'C': [0.001, 0.01, 0.1, 1, 10, 100],\n",
    "               'gamma': [0.001, 0.01, 0.1, 1, 10, 100]},\n",
    "              {'kernel': ['linear'],\n",
    "               'C': [0.001, 0.01, 0.1, 1, 10, 100]},\n",
    "              {'kernel': ['poly'],\n",
    "               'degree': [2, 3, 4, 5, 6]},\n",
    "              {'kernel': ['sigmoid'],\n",
    "               'C': [0.001, 0.01, 0.1, 1, 10, 100],\n",
    "               'gamma': [0.001, 0.01, 0.1, 1, 10, 100]}]\n",
    "\n",
    "svm_grid = GridSearchCV(svc, param_grid, cv = 5 ,return_train_score = True ,scoring = f2score)\n",
    "svm_grid.fit(X_train, y_train)\n",
    "\n",
    "print(\"Best Parameters: \",svm_grid.best_params_, '\\n')\n",
    "\n",
    "print(\"Best Mean Cross-validation score: {:.2f}\".format(svm_grid.best_score_), '\\n')\n",
    "\n",
    "print(\"Test Performance: {:.2f} \".format(svm_grid.score(X_test,y_test)))\n",
    "print(\"Validation Performance: {:.2f} \".format(svm_grid.score(X_val,y_val)))"
   ]
  },
  {
   "cell_type": "markdown",
   "metadata": {},
   "source": [
    "##### SGD Classifier"
   ]
  },
  {
   "cell_type": "code",
   "execution_count": 54,
   "metadata": {},
   "outputs": [
    {
     "name": "stdout",
     "output_type": "stream",
     "text": [
      "Best Parameters:  {'alpha': 0.0001, 'eta0': 0.1, 'fit_intercept': False, 'l1_ratio': 0.7, 'learning_rate': 'adaptive', 'penalty': 'elasticnet'} \n",
      "\n",
      "Best Mean Cross-validation score: 0.58 \n",
      "\n",
      "Test Performance: 0.56 \n",
      "Validation Performance: 0.58 \n"
     ]
    }
   ],
   "source": [
    "from sklearn.linear_model import SGDClassifier\n",
    "sgdc = SGDClassifier(random_state=42)\n",
    "sgdc_param = {'penalty': ['l2', 'l1','elasticnet'],\n",
    "              'l1_ratio': [0.1,0.3,0.5,0.7,0.9],\n",
    "              'alpha': [0.0001, 0.001, 0.01, 0.02, 0.05, 1, 10],\n",
    "              'fit_intercept': [True, False],\n",
    "              'learning_rate': ['constant', 'optimal', 'invscaling', 'adaptive'],\n",
    "              'eta0': [0.001, 0.01,0.05,0.1,0.2,0.3,0.4,0.5]\n",
    "                     }    \n",
    "\n",
    "sgdc_grid = GridSearchCV(sgdc, sgdc_param, cv = 5, return_train_score = True, scoring = f2score)\n",
    "sgdc_grid.fit(X_train, y_train)\n",
    "\n",
    "print(\"Best Parameters: \",sgdc_grid.best_params_, '\\n')\n",
    "\n",
    "print(\"Best Mean Cross-validation score: {:.2f}\".format(sgdc_grid.best_score_), '\\n')\n",
    "\n",
    "print(\"Test Performance: {:.2f} \".format(sgdc_grid.score(X_test,y_test)))\n",
    "print(\"Validation Performance: {:.2f} \".format(sgdc_grid.score(X_val,y_val)))"
   ]
  },
  {
   "cell_type": "markdown",
   "metadata": {},
   "source": [
    "##### LDA"
   ]
  },
  {
   "cell_type": "code",
   "execution_count": 58,
   "metadata": {},
   "outputs": [
    {
     "name": "stdout",
     "output_type": "stream",
     "text": [
      "Best Parameters:  {'shrinkage': None, 'solver': 'lsqr'} \n",
      "\n",
      "Best Mean Cross-validation score: 0.27 \n",
      "\n",
      "Test Performance: 0.31 \n",
      "Validation Performance: 0.25 \n"
     ]
    }
   ],
   "source": [
    "from sklearn.discriminant_analysis import LinearDiscriminantAnalysis\n",
    "\n",
    "param_grid = {'solver' : ['lsqr', 'eigen'],\n",
    "              'shrinkage': [None, 0.0001, 0.001, 0.01, 0.0005, 0.005, 0.05, 0.1,0.2,0.3,0.4,0.5,0.6,0.7,0.8,0.9,1]}    \n",
    "\n",
    "lda_grid = GridSearchCV(LinearDiscriminantAnalysis(), param_grid, cv = 5, scoring = f2score, return_train_score = True)\n",
    "\n",
    "lda_grid.fit(X_train,y_train)\n",
    "\n",
    "print(\"Best Parameters: \",lda_grid.best_params_, '\\n')\n",
    "\n",
    "print(\"Best Mean Cross-validation score: {:.2f}\".format(lda_grid.best_score_), '\\n')\n",
    "\n",
    "print(\"Test Performance: {:.2f} \".format(lda_grid.score(X_test,y_test)))\n",
    "print(\"Validation Performance: {:.2f} \".format(lda_grid.score(X_val,y_val)))"
   ]
  },
  {
   "cell_type": "markdown",
   "metadata": {},
   "source": [
    "##### MLP Classifier"
   ]
  },
  {
   "cell_type": "code",
   "execution_count": 59,
   "metadata": {},
   "outputs": [
    {
     "name": "stdout",
     "output_type": "stream",
     "text": [
      "Best Mean Cross-validation score: 0.44 \n",
      "\n",
      "Test Performance: 0.43 \n",
      "Validation Performance: 0.41 \n"
     ]
    }
   ],
   "source": [
    "from sklearn.neural_network import MLPClassifier\n",
    "mlpc = MLPClassifier(hidden_layer_sizes=(12, 8, 4), max_iter = 500, random_state = 42)\n",
    "param = {}\n",
    "\n",
    "mlp_grid= GridSearchCV(mlpc, param, cv = 10, return_train_score = True, scoring = f2score)\n",
    "mlp_clf = mlp_grid.fit(X_train,y_train)\n",
    "\n",
    "print(\"Best Mean Cross-validation score: {:.2f}\".format(mlp_clf.best_score_), '\\n')\n",
    "\n",
    "print(\"Test Performance: {:.2f} \".format(mlp_clf.score(X_test,y_test)))\n",
    "print(\"Validation Performance: {:.2f} \".format(mlp_clf.score(X_val,y_val)))"
   ]
  },
  {
   "cell_type": "markdown",
   "metadata": {},
   "source": [
    "#### Ensemble Models"
   ]
  },
  {
   "cell_type": "markdown",
   "metadata": {},
   "source": [
    "##### Bagging with DTree"
   ]
  },
  {
   "cell_type": "code",
   "execution_count": 62,
   "metadata": {},
   "outputs": [
    {
     "name": "stdout",
     "output_type": "stream",
     "text": [
      "Best Parameters:  {'base_estimator__criterion': 'gini', 'base_estimator__max_depth': 2, 'base_estimator__max_leaf_nodes': 4, 'base_estimator__min_samples_split': 2, 'max_samples': 0.8, 'n_estimators': 50} \n",
      "\n",
      "Best Mean Cross-validation score: 0.35 \n",
      "\n",
      "Test Performance: 0.34 \n",
      "Validation Performance: 0.32 \n"
     ]
    }
   ],
   "source": [
    "from sklearn.ensemble import BaggingClassifier\n",
    "bag_dtree1 = BaggingClassifier(base_estimator=DecisionTreeClassifier(), bootstrap = True, \n",
    "                               random_state=0, oob_score = False)\n",
    "\n",
    "bag_dtree1_param = {\n",
    "                 'base_estimator__max_depth': [1,2,3,4,5,7,9],\n",
    "                 'base_estimator__max_leaf_nodes': [2,3,4,5],\n",
    "                 'base_estimator__min_samples_split':[2,3,4],\n",
    "                 'base_estimator__criterion':['gini','entropy'],\n",
    "                 'max_samples':  [0.8,1],\n",
    "                 'n_estimators': [50,100,200]}\n",
    "\n",
    "bag_dtree1_grid = GridSearchCV(bag_dtree1, bag_dtree1_param,cv = 5, return_train_score = True, scoring = f2score)\n",
    "bag_dtree1_grid.fit(X_train,y_train)\n",
    "\n",
    "print(\"Best Parameters: \",bag_dtree1_grid.best_params_, '\\n')\n",
    "\n",
    "print(\"Best Mean Cross-validation score: {:.2f}\".format(bag_dtree1_grid.best_score_), '\\n')\n",
    "\n",
    "print(\"Test Performance: {:.2f} \".format(bag_dtree1_grid.score(X_test,y_test)))\n",
    "print(\"Validation Performance: {:.2f} \".format(bag_dtree1_grid.score(X_val,y_val)))"
   ]
  },
  {
   "cell_type": "markdown",
   "metadata": {},
   "source": [
    "##### Random Forest"
   ]
  },
  {
   "cell_type": "code",
   "execution_count": 63,
   "metadata": {},
   "outputs": [
    {
     "name": "stdout",
     "output_type": "stream",
     "text": [
      "Best Parameters:  {'criterion': 'gini', 'max_depth': 9, 'max_features': 'auto', 'min_samples_leaf': 1, 'min_samples_split': 4, 'n_estimators': 200} \n",
      "\n",
      "Best Mean Cross-validation score: 0.02 \n",
      "\n",
      "Test Performance: 0.03 \n",
      "Validation Performance: 0.02 \n"
     ]
    }
   ],
   "source": [
    "from sklearn.ensemble import RandomForestClassifier\n",
    "rfc = RandomForestClassifier(random_state = 42)\n",
    "rfc_param = {'n_estimators': [200, 500],\n",
    "            'max_features': ['auto'],\n",
    "            'max_depth' : [2,4,6,8,9],\n",
    "            'criterion' :['gini', 'entropy'],\n",
    "            'min_samples_split':[2,3,4,6,8],\n",
    "            'min_samples_leaf': [1,2,3,4]}\n",
    "\n",
    "rfc_grid = GridSearchCV(rfc, rfc_param,cv = 5, return_train_score = True, scoring = f2score)\n",
    "rfc_grid.fit(X_train,y_train)\n",
    "\n",
    "print(\"Best Parameters: \",rfc_grid.best_params_, '\\n')\n",
    "\n",
    "print(\"Best Mean Cross-validation score: {:.2f}\".format(rfc_grid.best_score_), '\\n')\n",
    "\n",
    "print(\"Test Performance: {:.2f} \".format(rfc_grid.score(X_test,y_test)))\n",
    "print(\"Validation Performance: {:.2f} \".format(rfc_grid.score(X_val,y_val)))"
   ]
  },
  {
   "cell_type": "markdown",
   "metadata": {},
   "source": [
    "##### Gradient Boosting Classifier"
   ]
  },
  {
   "cell_type": "code",
   "execution_count": 30,
   "metadata": {},
   "outputs": [
    {
     "name": "stdout",
     "output_type": "stream",
     "text": [
      "Best Parameters:  {'subsample': 0.6, 'n_estimators': 100, 'min_samples_split': 2, 'min_samples_leaf': 1, 'max_depth': 3, 'learning_rate': 0.5} \n",
      "\n",
      "Best Mean Cross-validation score: 0.40 \n",
      "\n",
      "Test Performance: 0.42 \n",
      "Validation Performance: 0.40 \n"
     ]
    }
   ],
   "source": [
    "from  sklearn.ensemble import GradientBoostingClassifier\n",
    "from sklearn.model_selection import RandomizedSearchCV\n",
    "gbc= GradientBoostingClassifier(random_state = 42)\n",
    "gbc_param = {\n",
    "              'min_samples_split':[2,3],\n",
    "              'subsample':[0.6,0.8,1],\n",
    "              'min_samples_leaf':[1,2],\n",
    "              'max_depth' : [2,3,4,7],\n",
    "              'n_estimators' : [100,150],\n",
    "              'learning_rate' : [0.5,1.0,2]\n",
    "             }\n",
    "\n",
    "gbc_grid = RandomizedSearchCV(gbc, gbc_param,cv = 5, return_train_score = True, scoring = f2score)\n",
    "gbc_grid.fit(X_train,y_train)\n",
    "print(\"Best Parameters: \",gbc_grid.best_params_, '\\n')\n",
    "\n",
    "print(\"Best Mean Cross-validation score: {:.2f}\".format(gbc_grid.best_score_), '\\n')\n",
    "\n",
    "print(\"Test Performance: {:.2f} \".format(gbc_grid.score(X_test,y_test)))\n",
    "print(\"Validation Performance: {:.2f} \".format(gbc_grid.score(X_val,y_val)))"
   ]
  },
  {
   "cell_type": "markdown",
   "metadata": {},
   "source": [
    "##### XGBoost Classifier"
   ]
  },
  {
   "cell_type": "code",
   "execution_count": 31,
   "metadata": {},
   "outputs": [
    {
     "name": "stdout",
     "output_type": "stream",
     "text": [
      "Best Parameters:  {'subsample': 1, 'n_estimators': 150, 'min_child_weight': 1, 'max_depth': 7, 'learning_rate': 1, 'lambda': 1, 'gamma': 2, 'colsample_bytree': 0.8, 'alpha': 1} \n",
      "\n",
      "Best Mean Cross-validation score: 0.41 \n",
      "\n",
      "Test Performance: 0.43 \n",
      "Validation Performance: 0.40 \n"
     ]
    }
   ],
   "source": [
    "from xgboost import XGBClassifier\n",
    "xgbc= XGBClassifier(random_state = 42,early_stopping_rounds=2,objective= 'binary:logistic')\n",
    "\n",
    "xgbc_param = {\n",
    "              'max_depth' : [2,5,7],\n",
    "              'n_estimators' : [100,150,300],\n",
    "              'learning_rate' : [0.5,1,2],\n",
    "              'gamma' : [0.5,1.0,2],\n",
    "              'min_child_weight' : [1,2],\n",
    "              'subsample':[0.8,1],\n",
    "              'colsample_bytree':[0.6,0.8],\n",
    "              'lambda':[0.1,0.5,1],\n",
    "              'alpha':[0.1,0.5,1]\n",
    "             }\n",
    "\n",
    "xgbc_grid = RandomizedSearchCV(xgbc, xgbc_param,cv = 5, return_train_score = True, scoring = f2score)\n",
    "xgbc_grid.fit(X_train,y_train)\n",
    "print(\"Best Parameters: \",xgbc_grid.best_params_, '\\n')\n",
    "\n",
    "print(\"Best Mean Cross-validation score: {:.2f}\".format(xgbc_grid.best_score_), '\\n')\n",
    "\n",
    "print(\"Test Performance: {:.2f} \".format(xgbc_grid.score(X_test,y_test)))\n",
    "print(\"Validation Performance: {:.2f} \".format(xgbc_grid.score(X_val,y_val)))"
   ]
  },
  {
   "cell_type": "markdown",
   "metadata": {},
   "source": [
    "##### CATBoost Classsifier"
   ]
  },
  {
   "cell_type": "code",
   "execution_count": 111,
   "metadata": {},
   "outputs": [],
   "source": [
    "from catboost import CatBoostClassifier\n",
    "cat = CatBoostClassifier()\n",
    "\n",
    "param_grid = {\n",
    "            'depth':[7,9,10,11,12],\n",
    "            'iterations':[500,750,1000], \n",
    "            'learning_rate':[0.2,0.25,0.3,0.4], \n",
    "            'l2_leaf_reg':[7,8,9,10,15], \n",
    "            'border_count':[4,5,6,7,8]\n",
    "                      }\n",
    "\n",
    "cat_grid = RandomizedSearchCV(cat, param_grid, cv = 10, return_train_score = True, scoring = f2score)\n",
    "cat_grid.fit(X_train,y_train)\n",
    "\n",
    "print(\"Best Parameters: \",cat_grid.best_params_, '\\n')\n",
    "\n",
    "print(\"Best Mean Cross-validation score: {:.2f}\".format(cat_grid.best_score_), '\\n')\n",
    "\n",
    "print(\"Test Performance: {:.2f} \".format(cat_grid.score(X_test,y_test)))\n",
    "print(\"Validation Performance: {:.2f} \".format(cat_grid.score(X_val,y_val)))"
   ]
  },
  {
   "cell_type": "markdown",
   "metadata": {},
   "source": [
    "Best Parameters:  {'learning_rate': 0.25, 'l2_leaf_reg': 9, 'iterations': 750, 'depth': 9, 'border_count': 5} \n",
    "{'learning_rate': 0.3, 'l2_leaf_reg': 10, 'iterations': 1000, 'depth': 7, 'border_count': 5}\n",
    "\n",
    "Best Mean Cross-validation score: 0.42 \n",
    "\n",
    "Test Performance: 0.42 \n",
    "Validation Performance: 0.40 "
   ]
  },
  {
   "cell_type": "markdown",
   "metadata": {},
   "source": [
    "##### LightGBM Classifier"
   ]
  },
  {
   "cell_type": "code",
   "execution_count": 43,
   "metadata": {},
   "outputs": [
    {
     "name": "stdout",
     "output_type": "stream",
     "text": [
      "Best Parameters:  {'reg_lambda': 0.3, 'reg_alpha': 0.5, 'num_leaves': 200, 'n_estimators': 100, 'min_split_gain': 0.7, 'max_depth': 7, 'learning_rate': 0.9} \n",
      "\n",
      "Best Mean Cross-validation score: 0.41 \n",
      "\n",
      "Test Performance: 0.43 \n",
      "Validation Performance: 0.46 \n"
     ]
    }
   ],
   "source": [
    "import lightgbm as lgb\n",
    "param_grid = {'num_leaves': [10,20,30,40,50,60,70,80,90,100,150,200],\n",
    "              'max_depth': [4,5,6,7,8,9,10,11,12,13,14,15],\n",
    "              'learning_rate': [0.1,0.2,0.3,0.4,0.5,0.6,0.7,0.8,0.9,1],\n",
    "              'n_estimators': [10, 30, 50, 70, 90, 100, 120, 150, 170, 200], \n",
    "              'min_split_gain' : [0,0.1,0.2,0.3,0.4,0.5,0.6,0.7,0.8,0.9],\n",
    "              'reg_alpha': [0.1, 0.2, 0.3, 0.4, 0.5, 0.6, 0.7, 0.8, 0.9],\n",
    "              'reg_lambda': [0.1, 0.2, 0.3, 0.4, 0.5, 0.6, 0.7, 0.8, 0.9]}\n",
    "\n",
    "mdl = lgb.LGBMClassifier(random_state = 42,\n",
    "                         objective = 'binary')\n",
    "\n",
    "lgbm_grid = RandomizedSearchCV(mdl, param_grid, cv = 5, return_train_score = True, scoring = f2score)\n",
    "lgbm_grid.fit(X_train,y_train)\n",
    "\n",
    "print(\"Best Parameters: \",lgbm_grid.best_params_, '\\n')\n",
    "\n",
    "print(\"Best Mean Cross-validation score: {:.2f}\".format(lgbm_grid.best_score_), '\\n')\n",
    "\n",
    "print(\"Test Performance: {:.2f} \".format(lgbm_grid.score(X_test,y_test)))\n",
    "print(\"Validation Performance: {:.2f} \".format(lgbm_grid.score(X_val,y_val)))"
   ]
  },
  {
   "cell_type": "markdown",
   "metadata": {},
   "source": [
    "#### Cost Sensitive Algorithms"
   ]
  },
  {
   "cell_type": "markdown",
   "metadata": {},
   "source": [
    "The idea behind using Cost Sensitive Algorithms is to given varying weights to each of the classes while building the model in an effort to built better predictors"
   ]
  },
  {
   "cell_type": "markdown",
   "metadata": {},
   "source": [
    "##### Logistic Regression"
   ]
  },
  {
   "cell_type": "code",
   "execution_count": 46,
   "metadata": {},
   "outputs": [
    {
     "name": "stdout",
     "output_type": "stream",
     "text": [
      "Best Parameters:  {'C': 0.2, 'class_weight': {0: 1, 1: 10}, 'dual': False, 'fit_intercept': True, 'penalty': 'l2', 'solver': 'sag', 'warm_start': True} \n",
      "\n",
      "Best Mean Cross-validation score: 0.63 \n",
      "\n",
      "Test Performance: 0.61 \n",
      "Validation Performance: 0.62 \n"
     ]
    }
   ],
   "source": [
    "#cost sensitive logistic regession L2 regularization\n",
    "param_grid = {\n",
    "    'penalty':['l2'],\n",
    "    'dual':[False],\n",
    "    'C':[0.001, 0.01, 0.1, 0.2, 0.5], \n",
    "    'fit_intercept':[True,False],\n",
    "    'solver':['sag'],\n",
    "    'warm_start':[True,False],\n",
    "    'class_weight': [{0:100,1:1}, {0:10,1:1}, {0:1,1:1}, {0:1,1:10}, {0:1,1:100}]\n",
    "}\n",
    "#apply grid search\n",
    "cgrid_logreg = GridSearchCV(LogisticRegression(random_state = 42, max_iter = 10000),\n",
    "                           param_grid, cv = 5, n_jobs = -1, scoring = f2score)\n",
    "cgrid_logreg.fit(X_train, y_train)\n",
    "\n",
    "print(\"Best Parameters: \",cgrid_logreg.best_params_, '\\n')\n",
    "print(\"Best Mean Cross-validation score: {:.2f}\".format(cgrid_logreg.best_score_), '\\n')\n",
    "\n",
    "print(\"Test Performance: {:.2f} \".format(cgrid_logreg.score(X_test,y_test)))\n",
    "print(\"Validation Performance: {:.2f} \".format(cgrid_logreg.score(X_val,y_val)))"
   ]
  },
  {
   "cell_type": "code",
   "execution_count": 35,
   "metadata": {},
   "outputs": [
    {
     "name": "stdout",
     "output_type": "stream",
     "text": [
      "Best Parameters:  {'warm_start': True, 'solver': 'saga', 'penalty': 'elasticnet', 'l1_ratio': 0.8, 'fit_intercept': False, 'dual': False, 'class_weight': {0: 1, 1: 10}, 'C': 0.5} \n",
      "\n",
      "Best Mean Cross-validation score: 0.45 \n",
      "\n",
      "Test Performance: 0.46 \n",
      "Validation Performance: 0.45 \n"
     ]
    }
   ],
   "source": [
    "# cost sensitive logistic regession elasticnet\n",
    "param_grid = {'penalty':['elasticnet'],\n",
    "                'dual':[False],\n",
    "                'C':[0.01, 0.1, 0.2, 0.5], \n",
    "                'fit_intercept':[True,False],\n",
    "                'solver':['saga'],\n",
    "                'warm_start':[True],\n",
    "                'l1_ratio':[0.4,0.7,0.8,0.9],\n",
    "                'class_weight': [{0:1,1:1}, {0:1,1:5}, {0:1,1:10}, {0:1,1:100}]}\n",
    "\n",
    "cgrid_logreg = RandomizedSearchCV(LogisticRegression(random_state = 42, max_iter = 100000),\n",
    "                            param_grid, cv = 5, n_jobs = -1, scoring = f2score)\n",
    "cgrid_logreg.fit(X_train, y_train)\n",
    "\n",
    "print(\"Best Parameters: \",cgrid_logreg.best_params_, '\\n')\n",
    "print(\"Best Mean Cross-validation score: {:.2f}\".format(cgrid_logreg.best_score_), '\\n')\n",
    "\n",
    "print(\"Test Performance: {:.2f} \".format(cgrid_logreg.score(X_test,y_test)))\n",
    "print(\"Validation Performance: {:.2f} \".format(cgrid_logreg.score(X_val,y_val)))"
   ]
  },
  {
   "cell_type": "markdown",
   "metadata": {},
   "source": [
    "##### Kernel Support Vector Machine"
   ]
  },
  {
   "cell_type": "code",
   "execution_count": 32,
   "metadata": {},
   "outputs": [
    {
     "name": "stdout",
     "output_type": "stream",
     "text": [
      "Best Parameters:  {'kernel': 'rbf', 'gamma': 0.01, 'class_weight': {0: 1, 1: 10}, 'C': 0.1} \n",
      "\n",
      "Best Mean Cross-validation score: 0.55 \n",
      "\n",
      "Test Performance: 0.55 \n",
      "Validation Performance: 0.55 \n"
     ]
    }
   ],
   "source": [
    "from sklearn.svm import SVC\n",
    "svc = SVC()\n",
    "param_grid = {'kernel': ['rbf'],\n",
    "               'C': [0.001, 0.01, 0.1, 1, 10, 100],\n",
    "               'gamma': [0.001, 0.01, 0.1, 1, 10, 100],\n",
    "               'class_weight': [{0:100,1:1}, {0:10,1:1}, {0:1,1:1}, {0:1,1:10}, {0:1,1:100}]\n",
    "             }\n",
    "\n",
    "cs_svm_grid = RandomizedSearchCV(svc, param_grid, cv = 5 ,return_train_score = True ,scoring = f2score)\n",
    "cs_svm_grid.fit(X_train, y_train)\n",
    "\n",
    "print(\"Best Parameters: \",cs_svm_grid.best_params_, '\\n')\n",
    "\n",
    "print(\"Best Mean Cross-validation score: {:.2f}\".format(cs_svm_grid.best_score_), '\\n')\n",
    "\n",
    "print(\"Test Performance: {:.2f} \".format(cs_svm_grid.score(X_test,y_test)))\n",
    "print(\"Validation Performance: {:.2f} \".format(cs_svm_grid.score(X_val,y_val)))"
   ]
  },
  {
   "cell_type": "markdown",
   "metadata": {},
   "source": [
    "##### SGDClassifier"
   ]
  },
  {
   "cell_type": "code",
   "execution_count": 37,
   "metadata": {},
   "outputs": [
    {
     "name": "stdout",
     "output_type": "stream",
     "text": [
      "Best Parameters:  {'class_weight': {0: 1, 1: 10}, 'penalty': 'elasticnet'} \n",
      "\n",
      "Best Mean Cross-validation score: 0.62 \n",
      "\n",
      "Test Performance: 0.59 \n",
      "Validation Performance: 0.61 \n"
     ]
    }
   ],
   "source": [
    "from sklearn.linear_model import SGDClassifier\n",
    "sgdc = SGDClassifier(random_state=42)\n",
    "sgdc_param = {\n",
    "    'penalty': ['elasticnet'],\n",
    "    'class_weight': [{0:100,1:1}, {0:10,1:1}, {0:1,1:1}, {0:1,1:10}, {0:1,1:100}]\n",
    "}    \n",
    "\n",
    "cs_sgdc_grid = GridSearchCV(sgdc, sgdc_param, cv = 5, return_train_score = True, scoring = f2score)\n",
    "cs_sgdc_grid.fit(X_train, y_train)\n",
    "\n",
    "print(\"Best Parameters: \",cs_sgdc_grid.best_params_, '\\n')\n",
    "\n",
    "print(\"Best Mean Cross-validation score: {:.2f}\".format(cs_sgdc_grid.best_score_), '\\n')\n",
    "\n",
    "print(\"Test Performance: {:.2f} \".format(cs_sgdc_grid.score(X_test,y_test)))\n",
    "print(\"Validation Performance: {:.2f} \".format(cs_sgdc_grid.score(X_val,y_val)))"
   ]
  },
  {
   "cell_type": "markdown",
   "metadata": {},
   "source": [
    "##### LightGBM"
   ]
  },
  {
   "cell_type": "code",
   "execution_count": 68,
   "metadata": {},
   "outputs": [
    {
     "name": "stdout",
     "output_type": "stream",
     "text": [
      "Best Parameters:  {'class_weight': {0: 1, 1: 100}} \n",
      "\n",
      "Best Mean Cross-validation score: 0.65 \n",
      "\n",
      "Test Performance: 0.65 \n",
      "Validation Performance: 0.66 \n"
     ]
    }
   ],
   "source": [
    "import lightgbm as lgb\n",
    "param_grid = { \n",
    "'class_weight': [{0:100,1:1}, {0:10,1:1}, {0:1,1:1}, {0:1,1:10}, {0:1,1:100}],\n",
    "}\n",
    "\n",
    "lgb_cs = GridSearchCV(lgb.LGBMClassifier(), \n",
    "                         param_grid, cv = 5, n_jobs = 2, scoring = f2score)\n",
    "\n",
    "\n",
    "lgb_cs.fit(X_train, y_train)\n",
    "print(\"Best Parameters: \",lgb_cs.best_params_, '\\n')\n",
    "\n",
    "print(\"Best Mean Cross-validation score: {:.2f}\".format(lgb_cs.best_score_), '\\n')\n",
    "\n",
    "print(\"Test Performance: {:.2f} \".format(lgb_cs.score(X_test,y_test)))\n",
    "print(\"Validation Performance: {:.2f} \".format(lgb_cs.score(X_val,y_val)))"
   ]
  },
  {
   "cell_type": "markdown",
   "metadata": {},
   "source": [
    "##### XGBoost"
   ]
  },
  {
   "cell_type": "code",
   "execution_count": 59,
   "metadata": {},
   "outputs": [
    {
     "name": "stdout",
     "output_type": "stream",
     "text": [
      "Best Parameters:  {'scale_pos_weight': 99} \n",
      "\n",
      "Best Mean Cross-validation score: 0.57 \n",
      "\n",
      "Test Performance: 0.64 \n",
      "Validation Performance: 0.60 \n"
     ]
    }
   ],
   "source": [
    "from xgboost import XGBClassifier\n",
    "param_grid = { \n",
    "    'scale_pos_weight': [1, 2, 10, 25, 50, 75, 99, 100],\n",
    "}\n",
    "cgrid_xgboost= GridSearchCV(XGBClassifier(), param_grid, cv = 5, n_jobs = -1, scoring = f2score)\n",
    "cgrid_xgboost.fit(X_train, y_train)\n",
    "\n",
    "print(\"Best Parameters: \",cgrid_xgboost.best_params_, '\\n')\n",
    "print(\"Best Mean Cross-validation score: {:.2f}\".format(cgrid_xgboost.best_score_), '\\n')\n",
    "\n",
    "print(\"Test Performance: {:.2f} \".format(cgrid_xgboost.score(X_test,y_test)))\n",
    "print(\"Validation Performance: {:.2f} \".format(cgrid_xgboost.score(X_val,y_val)))"
   ]
  },
  {
   "cell_type": "markdown",
   "metadata": {},
   "source": [
    "##### CatBoost"
   ]
  },
  {
   "cell_type": "code",
   "execution_count": 112,
   "metadata": {},
   "outputs": [],
   "source": [
    "from catboost import CatBoostClassifier\n",
    "param_grid = { \n",
    "'depth':[7,9],\n",
    "'class_weights' : [[100,1], [10,80], [70,1], [1,1], [1,10], [1,100], [1,50]]\n",
    "}\n",
    "cat_grid_cs = GridSearchCV(CatBoostClassifier(border_count = 5, iterations = 750, l2_leaf_reg = 15, \n",
    "                                              learning_rate = 0.25), \n",
    "                           param_grid, cv=5, n_jobs = -1, scoring = f2score)\n",
    "\n",
    "cat_grid_cs.fit(X_train, y_train)\n",
    "\n",
    "print(\"Best Parameters: \",cat_grid_cs.best_params_, '\\n')\n",
    "print(\"Best Mean Cross-validation score: {:.2f}\".format(cat_grid_cs.best_score_), '\\n')\n",
    "\n",
    "print(\"Test Performance: {:.2f} \".format(cat_grid_cs.score(X_test,y_test)))\n",
    "print(\"Validation Performance: {:.2f} \".format(cat_grid_cs.score(X_val,y_val)))\n",
    "\n",
    "prediction_test = cat_grid_cs.predict(X_test)\n",
    "prediction_val = cat_grid_cs.predict(X_val)"
   ]
  },
  {
   "cell_type": "markdown",
   "metadata": {},
   "source": [
    "Best Parameters:  {'class_weights': [1, 100], 'depth': 7} \n",
    "\n",
    "Best Mean Cross-validation score: 0.65 \n",
    "\n",
    "Test Performance: 0.65 \n",
    "\n",
    "Validation Performance: 0.64 "
   ]
  },
  {
   "cell_type": "markdown",
   "metadata": {},
   "source": [
    "#### Data Sampling"
   ]
  },
  {
   "cell_type": "markdown",
   "metadata": {},
   "source": [
    "The idea is to change the dataset used to build the models by:"
   ]
  },
  {
   "cell_type": "markdown",
   "metadata": {},
   "source": [
    "1) Adding copies of instances from the under-represented class called over-sampling (via various SMOTE methods)"
   ]
  },
  {
   "cell_type": "markdown",
   "metadata": {},
   "source": [
    "2) Deleting instances from the over-represented class, called under-sampling"
   ]
  },
  {
   "cell_type": "code",
   "execution_count": 36,
   "metadata": {},
   "outputs": [],
   "source": [
    "from imblearn.pipeline import Pipeline"
   ]
  },
  {
   "cell_type": "code",
   "execution_count": 37,
   "metadata": {},
   "outputs": [],
   "source": [
    "from imblearn.over_sampling import SMOTE\n",
    "from imblearn.over_sampling import BorderlineSMOTE\n",
    "from imblearn.pipeline import Pipeline\n",
    "from numpy import mean\n",
    "from imblearn.under_sampling import RandomUnderSampler\n",
    "from imblearn.over_sampling import SVMSMOTE\n",
    "from imblearn.over_sampling import ADASYN"
   ]
  },
  {
   "cell_type": "markdown",
   "metadata": {},
   "source": [
    "##### SGD Classifier"
   ]
  },
  {
   "cell_type": "code",
   "execution_count": 42,
   "metadata": {},
   "outputs": [
    {
     "name": "stdout",
     "output_type": "stream",
     "text": [
      "Best Parameters:  {'smote__k_neighbors': 15} \n",
      "\n",
      "Best Mean Cross-validation score: 0.60 \n",
      "\n",
      "Test Performance: 0.62 \n",
      "Validation Performance: 0.63 \n"
     ]
    }
   ],
   "source": [
    "# SMOTE and Undersampling\n",
    "sgdc = Pipeline([('smote', SMOTE()),\n",
    "                 ('under', RandomUnderSampler()),\n",
    "                 ('sgdc', SGDClassifier(penalty = 'elasticnet', random_state = 42))])\n",
    "\n",
    "param_sgdc = {'smote__k_neighbors': [1,2,3,4,5,7,10,12,15]}\n",
    "\n",
    "cv = RepeatedStratifiedKFold(n_splits = 10, n_repeats = 3, random_state=1)\n",
    "sgdc_ds1 = GridSearchCV(sgdc,param_sgdc, cv = cv, n_jobs = -1, scoring=f2score)\n",
    "sgdc_ds1.fit(X_train, y_train)\n",
    "\n",
    "print(\"Best Parameters: \",sgdc_ds1.best_params_, '\\n')\n",
    "\n",
    "print(\"Best Mean Cross-validation score: {:.2f}\".format(sgdc_ds1.best_score_), '\\n')\n",
    "\n",
    "print(\"Test Performance: {:.2f} \".format(sgdc_ds1.score(X_test,y_test)))\n",
    "print(\"Validation Performance: {:.2f} \".format(sgdc_ds1.score(X_val,y_val)))"
   ]
  },
  {
   "cell_type": "markdown",
   "metadata": {},
   "source": [
    "##### Logistic Regression"
   ]
  },
  {
   "cell_type": "code",
   "execution_count": 52,
   "metadata": {
    "scrolled": true
   },
   "outputs": [
    {
     "name": "stdout",
     "output_type": "stream",
     "text": [
      "Best Parameters:  {'logistic__C': 0.1, 'logistic__dual': False, 'logistic__fit_intercept': True, 'logistic__l1_ratio': 0.8, 'logistic__penalty': 'elasticnet', 'logistic__solver': 'saga', 'logistic__warm_start': True, 'smote__k_neighbors': 5} \n",
      "\n",
      "Best Mean Cross-validation score: 0.61 \n",
      "\n",
      "Test Performance: 0.63 \n",
      "Validation Performance: 0.62 \n"
     ]
    }
   ],
   "source": [
    "# SMOTE and Undersampling\n",
    "logreg = Pipeline([('smote', SMOTE()),\n",
    "                 ('under', RandomUnderSampler()),\n",
    "                 ('logistic', LogisticRegression(max_iter = 20000, random_state = 42))])\n",
    "\n",
    "logreg_param = {'logistic__penalty':['elasticnet'],\n",
    "                'logistic__dual':[False],\n",
    "                'logistic__C':[0.01, 0.1, 0.2], \n",
    "                'logistic__fit_intercept':[True,False],\n",
    "                'logistic__solver':['saga'],\n",
    "                'logistic__warm_start':[True],\n",
    "                'logistic__l1_ratio':[0.2,0.5,0.7,0.8],\n",
    "                'smote__k_neighbors': [3,5,7,10]}\n",
    "\n",
    "cv = RepeatedStratifiedKFold(n_splits = 10, n_repeats = 3, random_state = 1)\n",
    "log_ds1 = GridSearchCV(logreg, logreg_param, cv = cv, n_jobs = -1, scoring = f2score)\n",
    "log_ds1.fit(X_train, y_train)\n",
    "\n",
    "print(\"Best Parameters: \",log_ds1.best_params_, '\\n')\n",
    "\n",
    "print(\"Best Mean Cross-validation score: {:.2f}\".format(log_ds1.best_score_), '\\n')\n",
    "\n",
    "print(\"Test Performance: {:.2f} \".format(log_ds1.score(X_test,y_test)))\n",
    "print(\"Validation Performance: {:.2f} \".format(log_ds1.score(X_val,y_val)))"
   ]
  },
  {
   "cell_type": "markdown",
   "metadata": {},
   "source": [
    "##### XGBoost"
   ]
  },
  {
   "cell_type": "code",
   "execution_count": 71,
   "metadata": {},
   "outputs": [
    {
     "name": "stdout",
     "output_type": "stream",
     "text": [
      "Best Parameters:  {'smote__k_neighbors': 7} \n",
      "\n",
      "Best Mean Cross-validation score: 0.44 \n",
      "\n",
      "Test Performance: 0.47 \n",
      "Validation Performance: 0.43 \n"
     ]
    }
   ],
   "source": [
    "xgb_pipe = Pipeline([('smote', SMOTE()),\n",
    "                 ('under', RandomUnderSampler()),\n",
    "                 ('xgb', XGBClassifier(alpha = 1, colsample_bytree = 0.8, gamma = 2, \n",
    "                                       learning_rate = 1, max_depth = 7, min_child_weight = 1, \n",
    "                                       n_estimators = 150, subsample = 1, objective='binary:logistic',\n",
    "                                       random_state=42))])\n",
    "\n",
    "param_xgb = {'smote__k_neighbors': [1,2,3,4,5,7,10,12,15]}\n",
    "\n",
    "cv = RepeatedStratifiedKFold(n_splits = 10, n_repeats = 3, random_state = 42)\n",
    "xgb_ds = GridSearchCV(xgb_pipe, param_xgb, cv = cv, n_jobs = -1, scoring = f2score)\n",
    "xgb_ds.fit(X_train, y_train)\n",
    "\n",
    "print(\"Best Parameters: \",xgb_ds.best_params_, '\\n')\n",
    "\n",
    "print(\"Best Mean Cross-validation score: {:.2f}\".format(xgb_ds.best_score_), '\\n')\n",
    "\n",
    "print(\"Test Performance: {:.2f} \".format(xgb_ds.score(X_test,y_test)))\n",
    "print(\"Validation Performance: {:.2f} \".format(xgb_ds.score(X_val,y_val)))"
   ]
  },
  {
   "cell_type": "markdown",
   "metadata": {},
   "source": [
    "#### Probabilty Calibration"
   ]
  },
  {
   "cell_type": "markdown",
   "metadata": {},
   "source": [
    "##### SGD Classifier"
   ]
  },
  {
   "cell_type": "code",
   "execution_count": 73,
   "metadata": {},
   "outputs": [
    {
     "name": "stdout",
     "output_type": "stream",
     "text": [
      "Best Mean Cross-validation score: 0.21 \n",
      "\n",
      "Test Performance: 0.24 \n",
      "Validation Performance: 0.20 \n"
     ]
    }
   ],
   "source": [
    "from sklearn.calibration import CalibratedClassifierCV\n",
    "model = SGDClassifier()\n",
    "\n",
    "calibrated = CalibratedClassifierCV(model, method='sigmoid', cv = 5)\n",
    "cv = RepeatedStratifiedKFold(n_splits=5, n_repeats=3, random_state = 1)\n",
    "\n",
    "param = {}\n",
    "sgd_pc_grid = GridSearchCV(calibrated, param, cv = cv, n_jobs = -1, scoring = f2score)\n",
    "\n",
    "sgd_pc_grid.fit(X_train,y_train)\n",
    "print(\"Best Mean Cross-validation score: {:.2f}\".format(sgd_pc_grid.best_score_), '\\n')\n",
    "\n",
    "print(\"Test Performance: {:.2f} \".format(sgd_pc_grid.score(X_test,y_test)))\n",
    "print(\"Validation Performance: {:.2f} \".format(sgd_pc_grid.score(X_val,y_val)))"
   ]
  },
  {
   "cell_type": "markdown",
   "metadata": {},
   "source": [
    "##### XGBoost"
   ]
  },
  {
   "cell_type": "code",
   "execution_count": 105,
   "metadata": {},
   "outputs": [
    {
     "name": "stdout",
     "output_type": "stream",
     "text": [
      "Best Mean Cross-validation score: 0.20 \n",
      "\n",
      "Test Performance: 0.17 \n",
      "Validation Performance: 0.16 \n"
     ]
    }
   ],
   "source": [
    "from sklearn.calibration import CalibratedClassifierCV\n",
    "model = XGBClassifier()\n",
    "# wrap the model\n",
    "calibrated = CalibratedClassifierCV(model, method='isotonic', cv=3)\n",
    "# define evaluation procedure\n",
    "cv = RepeatedStratifiedKFold(n_splits=5, n_repeats=3, random_state=1)\n",
    "param = {}\n",
    "# evaluate model\n",
    "xgb_pc_grid= GridSearchCV(calibrated, param, cv=cv, n_jobs=-1, scoring=f2score)\n",
    "\n",
    "xgb_pc = xgb_pc_grid.fit(X_train,y_train)\n",
    "\n",
    "print(\"Best Mean Cross-validation score: {:.2f}\".format(xgb_pc.best_score_), '\\n')\n",
    "\n",
    "print(\"Test Performance: {:.2f} \".format(xgb_pc.score(X_test,y_test)))\n",
    "print(\"Validation Performance: {:.2f} \".format(xgb_pc.score(X_val,y_val)))"
   ]
  },
  {
   "cell_type": "markdown",
   "metadata": {},
   "source": [
    "### Results"
   ]
  },
  {
   "cell_type": "markdown",
   "metadata": {},
   "source": [
    "#### Best Performing Model - Cost Sensitive CatBoost Classifier"
   ]
  },
  {
   "cell_type": "code",
   "execution_count": null,
   "metadata": {},
   "outputs": [],
   "source": [
    "## Assess Metrics\n",
    "from catboost import CatBoostClassifier\n",
    "model = CatBoostClassifier(border_count = 5, iterations = 1000, l2_leaf_reg = 10, \n",
    "                          depth = 7, learning_rate = 0.3, class_weights = [1, 100])\n",
    "model.fit(X_train,y_train)\n",
    "prediction_test = model.predict(X_test)\n",
    "prediction_val = model.predict(X_val)"
   ]
  },
  {
   "cell_type": "code",
   "execution_count": 109,
   "metadata": {},
   "outputs": [
    {
     "name": "stdout",
     "output_type": "stream",
     "text": [
      "Test Set Performance (F2Score): 0.65 \n",
      "Validation Set Performance (F2Score): 0.66  \n",
      "\n",
      "Accuracy Test Set: 0.862875\n",
      "Accuracy Validation Set: 0.868375 \n",
      "\n",
      "Recall Score Test Set: 0.3282493368700265\n",
      "Recall Score Validation Set: 0.32859078590785906 \n",
      "\n",
      "Precision Score Test Set: 0.8549222797927462\n",
      "Precision Score Validation Set: 0.886654478976234 \n",
      "\n",
      "ROC_AUC curve Test Set: 0.6576551675107988\n",
      "ROC_AUC curve Validation Set: 0.6595437068717712 \n",
      "\n",
      "Confusion Matrix Test Set:\n",
      " [[6408   84]\n",
      " [1013  495]] \n",
      "\n",
      "Confusion Matrix Validation Set:\n",
      " [[6462   62]\n",
      " [ 991  485]]\n"
     ]
    }
   ],
   "source": [
    "print(\"Test Set Performance (F2Score): {:.2f} \".format(cat_grid_cs.score(X_test,y_test)))\n",
    "print(\"Validation Set Performance (F2Score): {:.2f} \".format(cat_grid_cs.score(X_val,y_val)), \"\\n\")\n",
    "\n",
    "from sklearn import metrics\n",
    "print(\"Accuracy Test Set:\",metrics.accuracy_score(prediction_test,y_test))\n",
    "print(\"Accuracy Validation Set:\",metrics.accuracy_score(prediction_val,y_val),\"\\n\")\n",
    "\n",
    "print(\"Recall Score Test Set:\",metrics.recall_score(prediction_test,y_test))\n",
    "print(\"Recall Score Validation Set:\",metrics.recall_score(prediction_val,y_val),\"\\n\")\n",
    "\n",
    "print(\"Precision Score Test Set:\",metrics.precision_score(prediction_test,y_test))\n",
    "print(\"Precision Score Validation Set:\",metrics.precision_score(prediction_val,y_val),\"\\n\")\n",
    "\n",
    "print(\"ROC_AUC curve Test Set:\",metrics.roc_auc_score(prediction_test,y_test))\n",
    "print(\"ROC_AUC curve Validation Set:\",metrics.roc_auc_score(prediction_val,y_val),\"\\n\")\n",
    "\n",
    "print(\"Confusion Matrix Test Set:\\n\",metrics.confusion_matrix(prediction_test,y_test),\"\\n\")\n",
    "print(\"Confusion Matrix Validation Set:\\n\",metrics.confusion_matrix(prediction_val,y_val))"
   ]
  },
  {
   "cell_type": "code",
   "execution_count": 121,
   "metadata": {},
   "outputs": [
    {
     "data": {
      "text/plain": [
       "Text(0.5, 1.0, 'Precision-Recall curve: ')"
      ]
     },
     "execution_count": 121,
     "metadata": {},
     "output_type": "execute_result"
    },
    {
     "data": {
      "image/png": "[encoded data removed]",
      "text/plain": [
       "<Figure size 432x288 with 1 Axes>"
      ]
     },
     "metadata": {
      "needs_background": "light"
     },
     "output_type": "display_data"
    }
   ],
   "source": [
    "from sklearn.metrics import precision_recall_curve\n",
    "from sklearn.metrics import plot_precision_recall_curve\n",
    "import matplotlib.pyplot as plt\n",
    "\n",
    "disp = plot_precision_recall_curve(model, X_test, y_test)\n",
    "disp.ax_.set_title('Precision-Recall curve: ')"
   ]
  },
  {
   "cell_type": "markdown",
   "metadata": {},
   "source": [
    "#### Understanding the importance of features"
   ]
  },
  {
   "cell_type": "markdown",
   "metadata": {},
   "source": [
    "##### To find out how likely a customer is to subscribe to a term deposit below is a detailed assessment of the relative importance of the features in our dataset."
   ]
  },
  {
   "cell_type": "markdown",
   "metadata": {},
   "source": [
    "Using feature importances mechanisms we can guage how the features conribute to making optimal predictions via four procedures:\n",
    "\n",
    "1) Prediction Value Changes\n",
    "\n",
    "2) Loss Function Change\n",
    "\n",
    "3) SHAP Values\n",
    "\n",
    "4) Permutation Feature Importances"
   ]
  },
  {
   "cell_type": "code",
   "execution_count": null,
   "metadata": {},
   "outputs": [],
   "source": [
    "from catboost import CatBoostClassifier\n",
    "model = CatBoostClassifier(border_count = 5, iterations = 750, l2_leaf_reg = 15, \n",
    "                          depth = 7, learning_rate = 0.25, class_weights = [1, 50])\n",
    "model.fit(X_train,y_train)\n",
    "prediction_test = model.predict(X_test)\n",
    "prediction_val = model.predict(X_val)"
   ]
  },
  {
   "cell_type": "markdown",
   "metadata": {},
   "source": [
    "PredictionValuesChange shows how much on average the prediction changes if the feature value changes.\n",
    "\n",
    "The bigger the value the bigger on average is the change to the prediction value if this feature is changed."
   ]
  },
  {
   "cell_type": "code",
   "execution_count": 26,
   "metadata": {},
   "outputs": [],
   "source": [
    "pvc = list(model.get_feature_importance(type= \"PredictionValuesChange\"))"
   ]
  },
  {
   "cell_type": "code",
   "execution_count": 28,
   "metadata": {},
   "outputs": [],
   "source": [
    "data_vals = data.columns[0:44]\n",
    "PredVals = pd.DataFrame()\n",
    "PredVals[\"x\"] = data_vals\n",
    "PredVals[\"y\"] = pvc\n",
    "PredVals.sort_values(\"y\", inplace = True, ascending = False)"
   ]
  },
  {
   "cell_type": "code",
   "execution_count": 30,
   "metadata": {},
   "outputs": [
    {
     "data": {
      "image/png": "[encoded data removed]",
      "text/plain": [
       "<Figure size 936x432 with 1 Axes>"
      ]
     },
     "metadata": {
      "needs_background": "light"
     },
     "output_type": "display_data"
    }
   ],
   "source": [
    "plt.figure(figsize = (13, 6))\n",
    "plt.bar(PredVals.x, PredVals.y, color = 'green')\n",
    "plt.xticks(rotation=90)\n",
    "plt.title(\"Prediction Values Change - Feature Importance\")\n",
    "plt.xlabel(\"PVC Significance\")\n",
    "plt.ylabel(\"Feature Names\")\n",
    "plt.tight_layout()\n",
    "plt.show()"
   ]
  },
  {
   "cell_type": "markdown",
   "metadata": {},
   "source": [
    "LossFunctionChange involves taking the difference between the metric (Loss function) obtained using the model in \n",
    "normal scenario (when we include the feature) and model without each individual feature.\n",
    "\n",
    "The model is built approximately using the original model with this feature removed from all the trees in the ensemble\n",
    "\n",
    "Higher the difference, the more important the feature is."
   ]
  },
  {
   "cell_type": "code",
   "execution_count": 35,
   "metadata": {},
   "outputs": [],
   "source": [
    "from catboost import Pool\n",
    "train_x = pd.DataFrame(X_train, columns = data_vals)\n",
    "train_y = pd.DataFrame(y_train, columns = [\"y\"])\n",
    "train_data = Pool(data = train_x,\n",
    "                  label = train_y)"
   ]
  },
  {
   "cell_type": "code",
   "execution_count": 36,
   "metadata": {},
   "outputs": [],
   "source": [
    "lfc = list(model.get_feature_importance(train_data, type= \"LossFunctionChange\"))"
   ]
  },
  {
   "cell_type": "code",
   "execution_count": 37,
   "metadata": {},
   "outputs": [],
   "source": [
    "data_vals = data.columns[0:44]\n",
    "LossFn = pd.DataFrame()\n",
    "LossFn[\"x\"] = data_vals\n",
    "LossFn[\"y\"] = lfc\n",
    "LossFn.sort_values(\"y\", inplace = True, ascending = False)"
   ]
  },
  {
   "cell_type": "code",
   "execution_count": 39,
   "metadata": {
    "scrolled": true
   },
   "outputs": [
    {
     "data": {
      "image/png": "[encoded data removed]",
      "text/plain": [
       "<Figure size 936x432 with 1 Axes>"
      ]
     },
     "metadata": {
      "needs_background": "light"
     },
     "output_type": "display_data"
    }
   ],
   "source": [
    "plt.figure(figsize = (13, 6))\n",
    "plt.bar(LossFn.x, LossFn.y, color = 'green')\n",
    "plt.xticks(rotation=90)\n",
    "plt.title(\"Loss Function Change - Feature Importance\")\n",
    "plt.xlabel(\"LFC Significance\")\n",
    "plt.ylabel(\"Feature Names\")\n",
    "plt.tight_layout()\n",
    "plt.show()"
   ]
  },
  {
   "cell_type": "markdown",
   "metadata": {},
   "source": [
    "SHAP Values (SHapley Additive exPlanations) break down each single prediction to show the impact of each feature on the said prediction\n",
    "\n",
    "sum(SHAP values for all features) = single_prediction - prediction_for_baseline_values"
   ]
  },
  {
   "cell_type": "code",
   "execution_count": 45,
   "metadata": {},
   "outputs": [],
   "source": [
    "import shap\n",
    "# Create object that can calculate shap values\n",
    "explainer = shap.TreeExplainer(model)"
   ]
  },
  {
   "cell_type": "code",
   "execution_count": 58,
   "metadata": {},
   "outputs": [],
   "source": [
    "# Calculate Shap values\n",
    "test_data = pd.DataFrame(X_test, columns = data_vals)\n",
    "shap_values = explainer.shap_values(test_data)"
   ]
  },
  {
   "cell_type": "code",
   "execution_count": 59,
   "metadata": {},
   "outputs": [
    {
     "data": {
      "image/png": "[encoded data removed]",
      "text/plain": [
       "<Figure size 576x684 with 2 Axes>"
      ]
     },
     "metadata": {
      "needs_background": "light"
     },
     "output_type": "display_data"
    }
   ],
   "source": [
    "shap.summary_plot(shap_values, test_data)"
   ]
  },
  {
   "cell_type": "markdown",
   "metadata": {},
   "source": [
    "Permutation Feature Importance\n",
    "is measured by calculating the increase in model's prediction error after permuting the feature\n",
    "\n",
    "A feature is \"important\" if shuffling its values increases the model error\n",
    "(because in this case the model relied on the feature for the prediction)\n",
    "\n",
    "A feature is \"unimportant\" if shuffling its values leaves the model error unchanged\n",
    "because in this case the model ignored the feature for the prediction)"
   ]
  },
  {
   "cell_type": "code",
   "execution_count": 66,
   "metadata": {},
   "outputs": [],
   "source": [
    "from sklearn.inspection import permutation_importance\n",
    "results = permutation_importance(model, X_train, y_train, scoring = f2score)\n",
    "importance = results.importances_mean"
   ]
  },
  {
   "cell_type": "code",
   "execution_count": 69,
   "metadata": {},
   "outputs": [],
   "source": [
    "data_vals = data.columns[0:44]\n",
    "PermImp = pd.DataFrame()\n",
    "PermImp[\"x\"] = data_vals\n",
    "PermImp[\"y\"] = list(importance)\n",
    "PermImp.sort_values(\"y\", inplace = True, ascending = False)"
   ]
  },
  {
   "cell_type": "code",
   "execution_count": 70,
   "metadata": {},
   "outputs": [
    {
     "data": {
      "image/png": "[encoded data removed]",
      "text/plain": [
       "<Figure size 936x432 with 1 Axes>"
      ]
     },
     "metadata": {
      "needs_background": "light"
     },
     "output_type": "display_data"
    }
   ],
   "source": [
    "plt.figure(figsize = (13, 6))\n",
    "plt.bar(PermImp.x, PermImp.y, color = 'green')\n",
    "plt.xticks(rotation=90)\n",
    "plt.title(\"Permutation Feature Importance\")\n",
    "plt.xlabel(\"PFI Significance\")\n",
    "plt.ylabel(\"Feature Names\")\n",
    "plt.tight_layout()\n",
    "plt.show()"
   ]
  },
  {
   "cell_type": "markdown",
   "metadata": {},
   "source": [
    "Based on the above methods we can conclude that the following features are sigificant to making the prediction:\n",
    "\n",
    "Duration (last contact duration, in seconds), Day (last contact day of the month), \n",
    "A few selective last contact months, campaign (number of contacts performed during this campaign and for a client) and age of the customer\n"
   ]
  },
  {
   "cell_type": "markdown",
   "metadata": {},
   "source": [
    "##### Analysing logistic regression coefficient values to determine the expected change in log odds for every unit change in the value of the features"
   ]
  },
  {
   "cell_type": "code",
   "execution_count": 239,
   "metadata": {},
   "outputs": [
    {
     "name": "stdout",
     "output_type": "stream",
     "text": [
      "0.19 \t job_admin\n",
      "-0.10 \t job_blue-collar\n",
      "-0.16 \t job_entrepreneur\n",
      "-0.45 \t job_housemaid\n",
      "-0.03 \t job_management\n",
      "0.47 \t job_retired\n",
      "-0.12 \t job_self-employed\n",
      "-0.07 \t job_services\n",
      "0.46 \t job_student\n",
      "0.11 \t job_technician\n",
      "-0.09 \t job_unemployed\n",
      "-0.21 \t job_unknown\n",
      "0.09 \t marital_divorced\n",
      "-0.21 \t marital_married\n",
      "0.11 \t marital_single\n",
      "-0.07 \t education_primary\n",
      "0.01 \t education_secondary\n",
      "0.29 \t education_tertiary\n",
      "-0.22 \t education_unknown\n",
      "-0.13 \t default_no\n",
      "0.13 \t default_yes\n",
      "0.37 \t housing_no\n",
      "-0.37 \t housing_yes\n",
      "0.21 \t loan_no\n",
      "-0.21 \t loan_yes\n",
      "0.60 \t contact_cellular\n",
      "0.55 \t contact_telephone\n",
      "-1.15 \t contact_unknown\n",
      "0.27 \t month_apr\n",
      "-1.74 \t month_aug\n",
      "0.61 \t month_dec\n",
      "0.16 \t month_feb\n",
      "-3.00 \t month_jan\n",
      "-1.55 \t month_jul\n",
      "0.40 \t month_jun\n",
      "2.52 \t month_mar\n",
      "-0.50 \t month_may\n",
      "-1.26 \t month_nov\n",
      "4.09 \t month_oct\n",
      "-0.39 \t age\n",
      "1.06 \t balance\n",
      "0.69 \t day\n",
      "14.81 \t duration\n",
      "-0.21 \t campaign\n"
     ]
    }
   ],
   "source": [
    "# Using Logistic regression with l2 - ridge penalty\n",
    "logreg_feat = LogisticRegression(C = 0.2, class_weight = {0: 1, 1: 10}, dual = False, fit_intercept = True,\n",
    "                                              penalty = 'l2', solver = 'sag', warm_start = True,\n",
    "                                              random_state = 42, max_iter = 10000)\n",
    "logreg_feat.fit(X_train,y_train)\n",
    "coef = logreg_feat.coef_\n",
    "for i in coef:\n",
    "    for j in range(0,44):\n",
    "        print(\"{:.2f} \\t {}\".format(i[j] , data.columns[j]))"
   ]
  },
  {
   "cell_type": "markdown",
   "metadata": {},
   "source": [
    "*Based on feature coefficients of logistic regression and feature importances the following can be said about each of the features:*\n",
    "\n",
    "1) Duration since last contact in a given day:\n",
    "Duration since last contact seems to have the highest significance with respect to the subscription. \n",
    "Larger the duration more likely the customer is to make a subscription.\n",
    "\n",
    "2) Balance:\n",
    "Balance has a positive relation with subscription. It makes sense to target consumers that have a high average yearly balance.\n",
    "\n",
    "3) Age:\n",
    "In general, a younger demographic is more likely to make the subscription.\n",
    "\n",
    "4) Day:\n",
    "People are more likely to subscribe to the deposit when contacted on days later in the month.\n",
    "\n",
    "5) Campaign:\n",
    "People that have been contacted a high number of times are less likely to make a subscription.\n",
    "\n",
    "5) Month:\n",
    "Contacting people in the following months have had the most success: October, March\n",
    "\n",
    "Contacting people in the following months have had the least success: January, August, July\n",
    "\n",
    "6) Education:\n",
    "People with higher levels of education are more likely to make the financial investment\n",
    "\n",
    "Job: This is relatively not too significant a feature.\n",
    "\n",
    "People with the following jobs are more likely to make subscriptions: Retired, Students, Technician, Admin\n",
    "\n",
    "People with the following jobs are unlikely to make subscriptions: Housemaids, Entrepreneurs, Self-Employed\n"
   ]
  },
  {
   "cell_type": "markdown",
   "metadata": {},
   "source": [
    "##### Future Work:"
   ]
  },
  {
   "cell_type": "markdown",
   "metadata": {},
   "source": [
    "The following methods were implemented but did not yield the desired outcome for the dataset at hand, with a larger dataset in the future they may prove to be beneficial:\n",
    "\n",
    "Use T-Distributed Stochastic Neighbor Embedding to cluster the data points based on the feature values to determine a stark differentiation between the two class labels.\n",
    "\n",
    "Using Principal Component Analysis to reduce the dimensionality of the features. With the reduced dimensionality (2/3 dimension) implement K Means clustering to identify clusters of customers and determine segments that should be prioritized to have a better subscription conversion rate.\n"
   ]
  },
  {
   "cell_type": "code",
   "execution_count": null,
   "metadata": {},
   "outputs": [],
   "source": []
  }
 ],
 "metadata": {
  "kernelspec": {
   "display_name": "Python 3",
   "language": "python",
   "name": "python3"
  },
  "language_info": {
   "codemirror_mode": {
    "name": "ipython",
    "version": 3
   },
   "file_extension": ".py",
   "mimetype": "text/x-python",
   "name": "python",
   "nbconvert_exporter": "python",
   "pygments_lexer": "ipython3",
   "version": "3.7.6"
  },
  "toc": {
   "base_numbering": 1,
   "nav_menu": {},
   "number_sections": true,
   "sideBar": true,
   "skip_h1_title": false,
   "title_cell": "Table of Contents",
   "title_sidebar": "Contents",
   "toc_cell": false,
   "toc_position": {
    "height": "calc(100% - 180px)",
    "left": "10px",
    "top": "150px",
    "width": "307.2px"
   },
   "toc_section_display": true,
   "toc_window_display": true
  }
 },
 "nbformat": 4,
 "nbformat_minor": 4
}
